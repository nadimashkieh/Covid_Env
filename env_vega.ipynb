{
 "cells": [
  {
   "cell_type": "markdown",
   "id": "c4fb078d-0214-466d-a439-5f9add89d619",
   "metadata": {
    "tags": []
   },
   "source": [
    "#### Nada Dimashkieh Chehab \n",
    "PhD Candidate - University of Central Florida\n",
    "<BR>\n",
    "Last revision: June 2023 "
   ]
  },
  {
   "cell_type": "markdown",
   "id": "50d9c564-c7f2-45c5-8a7e-ca2fe4e75ee2",
   "metadata": {
    "tags": []
   },
   "source": [
    "# <center>Visualization of Environmental findings Impacting Covid-19 as Researched in Literature </center>\n"
   ]
  },
  {
   "cell_type": "code",
   "execution_count": null,
   "id": "e53ad6fd-9e66-4454-a31e-3b60d99cf132",
   "metadata": {
    "tags": []
   },
   "outputs": [],
   "source": [
    "import pandas as pd\n",
    "from json import loads, dumps\n",
    "\n",
    "df = pd.read_csv( \"Covid_&_environment_1.csv\" )\n",
    "df.fillna( 0, inplace = True )\n",
    "df.head()"
   ]
  },
  {
   "cell_type": "markdown",
   "id": "75f8695b-8966-4dcb-b190-c8c3d1a0d0e6",
   "metadata": {},
   "source": [
    "### For each column, find the intersection of the author and a coded finding. Store the author and the date in the findings dictionary. Each finding is a set that may contain more than one author."
   ]
  },
  {
   "cell_type": "code",
   "execution_count": null,
   "id": "66b1ff47-d334-40b4-a900-508755f1f72b",
   "metadata": {
    "tags": []
   },
   "outputs": [],
   "source": [
    "\n",
    "findings = {}\n",
    "num_findings = 0\n",
    "for col in df.columns[2:]:\n",
    "    findings.update( { col : {} } ) \n",
    "    i = -1\n",
    "    for row in df[ col ]: \n",
    "        i+=1\n",
    "        if( row != 0 ):\n",
    "            findings[ col ].setdefault( row, set() ).add(  df[ 'Authors' ][ i ]  + \", \" + df[ 'Date' ][ i ] )\n",
    "            num_findings += 1\n"
   ]
  },
  {
   "cell_type": "markdown",
   "id": "7ebde393-7eb0-4da6-9908-dc4a71f0a45f",
   "metadata": {},
   "source": [
    "### Initialize Vega Json 'data' elements"
   ]
  },
  {
   "cell_type": "code",
   "execution_count": null,
   "id": "a6736228-e3d5-4020-bb2c-16f77381a599",
   "metadata": {
    "tags": []
   },
   "outputs": [],
   "source": [
    "\n",
    "std_size = 10\n",
    "vega_data = [ \n",
    "      { \"id\": 100, \"name\" : \"Environment\",                                     \"size\" : num_findings * std_size, \"tool_tip\" : num_findings }, \n",
    "      { \"id\": 200, \"name\" : \"Meteorological\",                  \"parent\" : 100, \"size\" : std_size, \"tool_tip\" : int( std_size / 10 ) },\n",
    "      { \"id\": 300, \"name\" : \"Socioeconomic\",                   \"parent\" : 100, \"size\" : std_size, \"tool_tip\" : int( std_size / 10 ) },\n",
    "      { \"id\": 400, \"name\" : \"Human Activity\",                  \"parent\" : 100, \"size\" : std_size, \"tool_tip\" : int( std_size / 10 ) },   \n",
    "      { \"id\": 500, \"name\" : \"Health\",                          \"parent\" : 100, \"size\" : std_size, \"tool_tip\" : int( std_size / 10 ) },\n",
    "    \n",
    "      { \"id\": 201, \"name\" : \"Temperature\",                     \"parent\" : 200, \"size\" : std_size, \"tool_tip\" : int( std_size / 10 ) },\n",
    "      { \"id\": 202, \"name\" : \"Humidity\",                        \"parent\" : 200, \"size\" : std_size, \"tool_tip\" : int( std_size / 10 ) },\n",
    "      { \"id\": 203, \"name\" : \"Atmospheric Pressure\",            \"parent\" : 200, \"size\" : std_size, \"tool_tip\" : int( std_size / 10 ) },\n",
    "      { \"id\": 204, \"name\" : \"Evaporation\",                     \"parent\" : 200, \"size\" : std_size, \"tool_tip\" : int( std_size / 10 ) },\n",
    "      { \"id\": 205, \"name\" : \"Dew Point\",                       \"parent\" : 200, \"size\" : std_size, \"tool_tip\" : int( std_size / 10 ) },\n",
    "      { \"id\": 206, \"name\" : \"Wind Speed\",                      \"parent\" : 200, \"size\" : std_size, \"tool_tip\" : int( std_size / 10 ) },\n",
    "      { \"id\": 207, \"name\" : \"Precipitation\",                   \"parent\" : 200, \"size\" : std_size, \"tool_tip\" : int( std_size / 10 ) },\n",
    "      { \"id\": 208, \"name\" : \"UV Light\",                        \"parent\" : 200, \"size\" : std_size, \"tool_tip\" : int( std_size / 10 ) },\n",
    " \n",
    "      { \"id\": 301, \"name\" : \"Racial Inequality\",               \"parent\" : 300, \"size\" : std_size, \"tool_tip\" : int( std_size / 10 ) },\n",
    "      { \"id\": 302, \"name\" : \"Gender Inequality\",               \"parent\" : 300, \"size\" : std_size, \"tool_tip\" : int( std_size / 10 ) },\n",
    "      { \"id\": 303, \"name\" : \"Residence Pattern\",               \"parent\" : 300, \"size\" : std_size, \"tool_tip\" : int( std_size / 10 ) },\n",
    "      { \"id\": 304, \"name\" : \"GDP per Capita\",                  \"parent\" : 300, \"size\" : std_size, \"tool_tip\" : int( std_size / 10 ) },\n",
    "      { \"id\": 305, \"name\" : \"Population\",                      \"parent\" : 300, \"size\" : std_size, \"tool_tip\" : int( std_size / 10 ) },\n",
    "      { \"id\": 306, \"name\" : \"Income Inequality\",               \"parent\" : 300, \"size\" : std_size, \"tool_tip\" : int( std_size / 10 ) },\n",
    "\n",
    "      { \"id\": 401, \"name\" : \"Human Mobility\",                  \"parent\" : 400, \"size\" : std_size, \"tool_tip\" : int( std_size / 10 ) },\n",
    "      { \"id\": 402, \"name\" : \"Air Polution\",                    \"parent\" : 400, \"size\" : std_size, \"tool_tip\" : int( std_size / 10 ) },\n",
    "      { \"id\": 403, \"name\" : \"Built Environment\",               \"parent\" : 400, \"size\" : std_size, \"tool_tip\" : int( std_size / 10 ) },\n",
    "\n",
    "      { \"id\": 412, \"name\" : \"Pollutant Standard Index\",        \"parent\" : 402, \"size\" : std_size, \"tool_tip\" : int( std_size / 10 ) },\n",
    "      { \"id\": 413, \"name\" : \"CO2\",                             \"parent\" : 402, \"size\" : std_size, \"tool_tip\" : int( std_size / 10 ) },\n",
    "      { \"id\": 414, \"name\" : \"Air Quality Index\",               \"parent\" : 402, \"size\" : std_size, \"tool_tip\" : int( std_size / 10 ) },\n",
    "      { \"id\": 415, \"name\" : \"N2O\",                             \"parent\" : 402, \"size\" : std_size, \"tool_tip\" : int( std_size / 10 ) },\n",
    "    \n",
    "      { \"id\": 501, \"name\" : \"Comorbidity\",                     \"parent\" : 500, \"size\" : std_size, \"tool_tip\" : int( std_size / 10 ) },\n",
    "      { \"id\": 502, \"name\" : \"Healthcare Capacity\",             \"parent\" : 500, \"size\" : std_size, \"tool_tip\" : int( std_size / 10 ) },\n",
    "      { \"id\": 503, \"name\" : \"Non-pharmaceutical Intervention\", \"parent\" : 500, \"size\" : std_size, \"tool_tip\" : int( std_size / 10 ) },\n",
    "      { \"id\": 504, \"name\" : \"Health Inequality\",               \"parent\" : 500, \"size\" : std_size, \"tool_tip\" : int( std_size / 10 ) },\n",
    "      { \"id\": 505, \"name\" : \"Age\",                             \"parent\" : 500, \"size\" : std_size, \"tool_tip\" : int( std_size / 10 ) },\n",
    "      { \"id\": 506, \"name\" : \"Gender Difference\",               \"parent\" : 500, \"size\" : std_size, \"tool_tip\" : int( std_size / 10 ) },\n",
    "    \n",
    "      { \"id\": 601, \"name\" : \"Average Temperature\",             \"parent\" : 201, \"size\" : std_size, \"tool_tip\" : int( std_size / 10 ) },\n",
    "      { \"id\": 602, \"name\" : \"Normal Temperature\",              \"parent\" : 201, \"size\" : std_size, \"tool_tip\" : int( std_size / 10 ) },     \n",
    "      { \"id\": 603, \"name\" : \"Minimum Temperature\",             \"parent\" : 201, \"size\" : std_size, \"tool_tip\" : int( std_size / 10 ) }, \n",
    "      { \"id\": 604, \"name\" : \"Maximum Temperature\",             \"parent\" : 201, \"size\" : std_size, \"tool_tip\" : int( std_size / 10 ) },\n",
    "    \n",
    "      { \"id\": 701, \"name\" : \"Relative Humidity\",               \"parent\" : 202, \"size\" : std_size, \"tool_tip\" : int( std_size / 10 ) },\n",
    "      { \"id\": 702, \"name\" : \"Absolute Humidity\",               \"parent\" : 202, \"size\" : std_size, \"tool_tip\" : int( std_size / 10 )  }     \n",
    "    ]\n",
    "\n"
   ]
  },
  {
   "cell_type": "markdown",
   "id": "dae3e2c6-96e8-4813-82a3-f9cd66fda486",
   "metadata": {
    "tags": []
   },
   "source": [
    "### Traverse the bag and complete the vega_list for the middle and the outer leaf nodes"
   ]
  },
  {
   "cell_type": "code",
   "execution_count": null,
   "id": "e2e0c14e-d7b9-41ae-82c5-856cdcb771ce",
   "metadata": {},
   "outputs": [],
   "source": [
    "\n",
    "for finding in findings.keys():                          \n",
    "    for i in range( 0, len( vega_data ) ):\n",
    "        if vega_data[ i ][ 'name' ] == finding: \n",
    "            finding_size = 0\n",
    "               \n",
    "            for metric in findings[ finding ].keys():\n",
    "                vega_data.append( { \"id\" : num , \"name\" : metric,  \"parent\": vega_data[ i ][ 'id' ], \"size\" : len( findings[ finding ][ metric ] ) * std_size, \"tool_tip\" : len( findings[ finding ][ metric ] )   }  )\n",
    "                num += std_size\n",
    "                \n",
    "                parent_num = num - std_size\n",
    "                \n",
    "                for auth in findings[ finding ][ metric ]:\n",
    "                    vega_data.append( { \"id\" : num , \"name\" : auth,  \"parent\": parent_num, \"size\" :  std_size, \"tool_tip\" : int( std_size / std_size )  }  )\n",
    "                    num += std_size \n",
    "                    finding_size += 1\n",
    "                    \n",
    "            vega_data[ i ][ 'size' ] += ( finding_size - 1 )  * std_size\n",
    "            vega_data[ i ][ 'tool_tip' ] = finding_size\n",
    "\n"
   ]
  },
  {
   "cell_type": "markdown",
   "id": "8a383bd5-5b31-4ca5-bd53-b8d2d26c192f",
   "metadata": {},
   "source": [
    "### Populate the sizes of the top level categories by rolling up the sizes of each of the child nodes"
   ]
  },
  {
   "cell_type": "code",
   "execution_count": null,
   "id": "c9f6273d-1d66-4f91-b479-12353b42e6f8",
   "metadata": {},
   "outputs": [],
   "source": [
    "\n",
    "roll_up = { 'id' : [ 201, 202, 200, 300, 402, 400, 500 ], 'index' : [] }\n",
    "\n",
    "##\n",
    "## Find the index of each of the roll up ids in the vega_data list\n",
    "##\n",
    "for i in range( 0, len( roll_up['id'] ) ):\n",
    "    for j in range( 0, len( vega_data[ 1: ] ) ): \n",
    "        if vega_data[ j ][ 'id' ] == roll_up[ 'id' ][ i ]:\n",
    "            roll_up[ 'index' ].append( j )\n",
    "            \n",
    "##\n",
    "## for reach id in roll_up list find and accumulate the child node sizes. Assign the sum to the corresponding category.\n",
    "##\n",
    "for i in range( 0, len( roll_up[ 'id' ] ) ):\n",
    "    my_sum = 0\n",
    "    for j in range( 1, len( vega_data[ 1: ] ) ):    # Note: j index starts at 1 - (first row does not have a 'parent' field)\n",
    "        if vega_data[ j ][ 'parent' ] == roll_up[ 'id' ][ i ]:\n",
    "            my_sum = my_sum + vega_data[ j ][ 'size' ]  \n",
    "            \n",
    "    vega_data[ roll_up[ 'index' ][ i ] ][ 'size' ] = my_sum\n",
    "    vega_data[ roll_up[ 'index' ][ i ] ][ 'tool_tip' ] = int( my_sum / std_size )\n",
    "\n"
   ]
  },
  {
   "cell_type": "code",
   "execution_count": null,
   "id": "9836ca63-e497-417d-9d34-baba00074b97",
   "metadata": {},
   "outputs": [],
   "source": []
  },
  {
   "cell_type": "markdown",
   "id": "b2449fb8-3eed-4426-b28a-ecbbe7b43365",
   "metadata": {},
   "source": [
    "### Output the 'data' portion of the Vega file"
   ]
  },
  {
   "cell_type": "code",
   "execution_count": 620,
   "id": "0f4ea8e0-7365-4a5e-b61d-ea379af27bf5",
   "metadata": {
    "tags": []
   },
   "outputs": [],
   "source": [
    "#print( dumps( vega_data, indent = 4 ) )\n",
    "envFile = open('env.json', 'w')\n",
    "print( dumps( vega_data, indent = 4 ), file = envFile )\n",
    "envFile.close() "
   ]
  },
  {
   "cell_type": "markdown",
   "id": "caddd36b-1746-4c6b-9474-4143bba26069",
   "metadata": {},
   "source": [
    "### This section generates the VEGA json file"
   ]
  },
  {
   "cell_type": "code",
   "execution_count": null,
   "id": "737e7347-e9d1-43c9-8960-9bce02bf8831",
   "metadata": {
    "tags": []
   },
   "outputs": [],
   "source": [
    "\n",
    "vega={\n",
    "  \"$schema\": \"https://vega.github.io/schema/vega/v5.json\",\n",
    "  \"description\": \"Studies on Covid Environments - Diagram of hierarchical data.\",\n",
    "  \"width\": 1200,\n",
    "  \"height\": 1200,\n",
    "  \"padding\": 5,\n",
    "  \"autosize\": \"none\",\n",
    "\n",
    "  \"signals\": [\n",
    "    {\n",
    "      \"name\": \"labels\", \"value\": True,\n",
    "      \"bind\": {\"input\": \"checkbox\"}\n",
    "    },\n",
    "    {\n",
    "      \"name\": \"radius\", \"value\": 500,\n",
    "      \"bind\": { \"input\": \"range\", \"min\": 20, \"max\": 900 }\n",
    "    },\n",
    "    {\n",
    "      \"name\": \"extent\", \"value\": 360,\n",
    "      \"bind\": { \"input\": \"range\", \"min\": 0, \"max\": 360, \"step\": 1 }\n",
    "    },\n",
    "    {\n",
    "      \"name\": \"rotate\", \"value\": 0,\n",
    "      \"bind\": {\"input\": \"range\", \"min\": 0, \"max\": 360, \"step\": 1}\n",
    "    },\n",
    "    {\n",
    "      \"name\": \"layout\", \"value\": \"tidy\",\n",
    "      \"bind\": {\"input\": \"radio\", \"options\": [\"tidy\", \"cluster\"]}\n",
    "    },\n",
    "    {\n",
    "      \"name\": \"links\", \"value\": \"line\",\n",
    "      \"bind\": {\n",
    "        \"input\": \"select\",\n",
    "        \"options\": [\"line\", \"curve\", \"diagonal\", \"orthogonal\"]}\n",
    "    },\n",
    "    { \"name\": \"originX\", \"update\": \"width / 2\" },\n",
    "    { \"name\": \"originY\", \"update\": \"height / 2\" }\n",
    "  ],\n",
    "\n",
    "  \"data\": [\n",
    "    {\n",
    "      \"name\": \"tree\",\n",
    "      \"url\": \"https://raw.githubusercontent.com/nadimashkieh/Covid_Env/main/covid_env_vega.json\",\n",
    "      \"transform\": [\n",
    "        {\n",
    "          \"type\": \"stratify\",\n",
    "          \"key\": \"id\",\n",
    "          \"parentKey\": \"parent\"\n",
    "        },\n",
    "        {\n",
    "          \"type\": \"tree\",\n",
    "          \"method\": {\"signal\": \"layout\"},\n",
    "          \"size\": [1, {\"signal\": \"radius\"}],\n",
    "          \"as\": [\"alpha\", \"radius\", \"depth\", \"children\"]\n",
    "        },\n",
    "        {\n",
    "          \"type\": \"formula\",\n",
    "          \"expr\": \"(rotate + extent * datum.alpha + 270) % 360\",\n",
    "          \"as\":   \"angle\"\n",
    "        },\n",
    "        {\n",
    "          \"type\": \"formula\",\n",
    "          \"expr\": \"PI * datum.angle / 180\",\n",
    "          \"as\":   \"radians\"\n",
    "        },\n",
    "        {\n",
    "          \"type\": \"formula\",\n",
    "          \"expr\": \"inrange(datum.angle, [90, 270])\",\n",
    "          \"as\":   \"leftside\"\n",
    "        },\n",
    "        {\n",
    "          \"type\": \"formula\",\n",
    "          \"expr\": \"originX + datum.radius * cos(datum.radians)\",\n",
    "          \"as\":   \"x\"\n",
    "        },\n",
    "        {\n",
    "          \"type\": \"formula\",\n",
    "          \"expr\": \"originY + datum.radius * sin(datum.radians)\",\n",
    "          \"as\":   \"y\"\n",
    "        }\n",
    "      ]\n",
    "    }, \n",
    "          \n",
    "    {\n",
    "      \"name\": \"links\",\n",
    "      \"source\": \"tree\",\n",
    "      \"transform\": [\n",
    "        { \"type\": \"treelinks\" },\n",
    "        {\n",
    "          \"type\": \"linkpath\",\n",
    "          \"shape\": {\"signal\": \"links\"}, \"orient\": \"radial\",\n",
    "          \"sourceX\": \"source.radians\", \"sourceY\": \"source.radius\",\n",
    "          \"targetX\": \"target.radians\", \"targetY\": \"target.radius\"\n",
    "        }\n",
    "      ]\n",
    "    }\n",
    "  ],\n",
    "\n",
    "  \"scales\": [\n",
    "    {\n",
    "      \"name\": \"color\",\n",
    "      \"type\": \"linear\",\n",
    "      \"range\": {\"scheme\": \"reds\"},\n",
    "      \"domain\": {\"data\": \"tree\", \"field\": \"depth\"},\n",
    "      \"zero\": True\n",
    "    },\n",
    "      \n",
    "      { \"name\":\"scale_legend_values\",\n",
    "       \"type\" : \"ordinal\",\n",
    "\n",
    "      }\n",
    "  ],\n",
    "\n",
    "  \"marks\": [\n",
    "    {\n",
    "      \"type\": \"path\",\n",
    "      \"from\": {\"data\": \"links\"},\n",
    "      \"encode\": {\n",
    "        \"update\": {\n",
    "          \"x\": {\"signal\": \"originX\"},\n",
    "          \"y\": {\"signal\": \"originY\"},\n",
    "          \"path\": {\"field\": \"path\"},\n",
    "          \"stroke\": {\"value\": \"#ccc\"}\n",
    "        }\n",
    "      }\n",
    "    },\n",
    "    {\n",
    "      \"type\": \"symbol\",\n",
    "      \"from\": {\"data\": \"tree\"},\n",
    "      \"encode\": {\n",
    "        \"enter\": {\n",
    "          \"size\": { \"field\": \"size\" },\n",
    "          \"stroke\": {\"value\": \"#fff\"}\n",
    "        },\n",
    "        \"update\": {\n",
    "          \"x\": {\"field\": \"x\"},\n",
    "          \"y\": {\"field\": \"y\"},\n",
    "          \"fill\": {\"scale\": \"color\", \"field\": \"depth\"},\n",
    "          \"tooltip\" : { \"field\" : \"tool_tip\", \"type\" : \"quantitative\" }\n",
    "        }\n",
    "      }\n",
    "    },\n",
    "    {\n",
    "      \"type\": \"text\",\n",
    "      \"from\": {\"data\": \"tree\"},\n",
    "      \"encode\": {\n",
    "        \"enter\": {\n",
    "          \"text\": {\"field\": \"name\"},\n",
    "          \"fontSize\": {\"value\": 7},\n",
    "          \"baseline\": {\"value\": \"middle\"},\n",
    "          \"tooltip\" : { \"field\" : \"name\", \"type\" : \"nominal\" }\n",
    "        },\n",
    "        \"update\": {\n",
    "          \"x\": {\"field\": \"x\"},\n",
    "          \"y\": {\"field\": \"y\"},\n",
    "          \"dx\": {\"signal\": \"(datum.leftside ? -1 : 1) * 30\"},\n",
    "          \"angle\": {\"signal\": \"datum.leftside ? datum.angle - 180 : datum.angle\"},\n",
    "          \"align\": {\"signal\": \"datum.leftside ? 'right' : 'left'\"},\n",
    "          \"opacity\": {\"signal\": \"labels ? 1 : 0\"}\n",
    "        }\n",
    "      }\n",
    "    }\n",
    "  ]\n",
    "    \n",
    "}\n",
    "\n",
    "#print( dumps( vega, indent = 4 ) )"
   ]
  },
  {
   "cell_type": "markdown",
   "id": "9a033972-23f4-4716-8b8f-5ff54fba1fc3",
   "metadata": {},
   "source": [
    "### Print the VEGA json to a file"
   ]
  },
  {
   "cell_type": "code",
   "execution_count": null,
   "id": "705d3d5f-8e9c-4e6c-a03b-7eedf5601eed",
   "metadata": {
    "tags": []
   },
   "outputs": [],
   "source": [
    "\n",
    "envFile = open('covid_env_vega.json', 'w')\n",
    "print( dumps( vega, indent = 4 ), file = envFile )\n",
    "envFile.close() "
   ]
  }
 ],
 "metadata": {
  "kernelspec": {
   "display_name": "Python 3 (ipykernel)",
   "language": "python",
   "name": "python3"
  },
  "language_info": {
   "codemirror_mode": {
    "name": "ipython",
    "version": 3
   },
   "file_extension": ".py",
   "mimetype": "text/x-python",
   "name": "python",
   "nbconvert_exporter": "python",
   "pygments_lexer": "ipython3",
   "version": "3.9.6"
  }
 },
 "nbformat": 4,
 "nbformat_minor": 5
}
